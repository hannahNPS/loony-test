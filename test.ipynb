{
 "cells": [
  {
   "cell_type": "markdown",
   "metadata": {},
   "source": [
    "This notebook scrapes a text file for bearings and then puts the bearings into a cvs file which can be used in the Legal Description Tools Notebook code in order to identify vertices as a points layer.  This can only be used for a set of descriptions that are straight lines, i.e. no curve data.\n",
    "\n",
    "Step 1: Export your PDF to a text file using Adobe.  Currently this is not available in Python without an additional Python dictionary which requires downloading. See: https://realpython.com/pdf-python/ "
   ]
  },
  {
   "cell_type": "code",
   "execution_count": 104,
   "metadata": {},
   "outputs": [],
   "source": [
    "\n",
    "##Regular Expressions: https://www.w3schools.com/python/python_regex.asp\n",
    "\n",
    "##Useful documentation: https://docs.python.org/3/library/re.html#regular-expression-syntax\n",
    "\n",
    "import re\n",
    "\n",
    "myfile = open(r\"F:\\ROW\\ROW_Park_Folders\\GATE\\Marine Forces Reserve\\RW GATE-20-001.txt\",'r')\n",
    "f = myfile.read()"
   ]
  },
  {
   "cell_type": "code",
   "execution_count": 105,
   "metadata": {},
   "outputs": [
    {
     "name": "stdout",
     "output_type": "stream",
     "text": [
      "['South 19°26’24” East', 'South 68°53’12” West', 'South 45°44’01” West', 'South 72°08’03” West', 'South 75°44’52” West', 'South 81°36’01” West', 'South 42°26’17” West', 'South 41°39’31” West', 'South 87°30’55” West', 'North 87°21’42” West', 'North 01°48’35” West', 'North 77°40’57” West', 'North 76°08’27” West', 'North 40°23’11” West', 'South 76°08’27” East', 'South 77°40’57” East', 'South 01°48’35” East', 'South 87°21’42” East', 'North 87°30’55” East', 'North 41°39’31” East', 'North 42°26’17” East', 'North 81°36’01” East', 'North 75°44’52” East', 'North 72°08’03” East', 'North 45°44’01” East', 'North 68°53’12” East']\n"
     ]
    }
   ],
   "source": [
    "#This cell cleans up lists of Northing and Eastings \n",
    "#Reference Page: https://realpython.com/openpyxl-excel-spreadsheets-python/\n",
    "#Reference\n",
    "#\\d+: One or more numbers.\n",
    "#\\s+: One or more whitespaces.\n",
    "#[A-Z\\s]+: One or more uppercase characters or space characters\n",
    "#\\s+: One or more whitespaces.\n",
    "#[A-Z][A-Za-z\\s]+: An uppercase character followed by at least one more character (uppercase or lowercase) or whitespaces.\n",
    "\n",
    "import csv\n",
    "# Importing pandas as pd\n",
    "import pandas as pd\n",
    "\n",
    "Bearing = re.findall('North\\s?\\d+\\°\\d+.\\d+\\.?\\d+.\\s?[A-Z][A-Za-z]+|South\\s?\\d+\\°\\d+.\\d+\\.?\\d+.\\s?[A-Z][A-Za-z]+', f)\n",
    "print(NS)\n",
    "\n",
    "\n"
   ]
  },
  {
   "cell_type": "code",
   "execution_count": 150,
   "metadata": {},
   "outputs": [
    {
     "name": "stdout",
     "output_type": "stream",
     "text": [
      "                 Bearing\n",
      "0   South 19°26’24” East\n",
      "1   South 45°44’01” West\n",
      "2   South 75°44’52” West\n",
      "3   South 42°26’17” West\n",
      "4   South 87°30’55” West\n",
      "5   North 01°48’35” West\n",
      "6   North 76°08’27” West\n",
      "7   South 76°08’27” East\n",
      "8   South 01°48’35” East\n",
      "9   North 87°30’55” East\n",
      "10  North 42°26’17” East\n",
      "11  North 75°44’52” East\n",
      "12  North 45°44’01” East\n",
      "       NS Degrees      MS    EW Minutes Seconds\n",
      "0   South      19  26’24”  East      26      24\n",
      "1   South      45  44’01”  West      44      01\n",
      "2   South      75  44’52”  West      44      52\n",
      "3   South      42  26’17”  West      26      17\n",
      "4   South      87  30’55”  West      30      55\n",
      "5   North      01  48’35”  West      48      35\n",
      "6   North      76  08’27”  West      08      27\n",
      "7   South      76  08’27”  East      08      27\n",
      "8   South      01  48’35”  East      48      35\n",
      "9   North      87  30’55”  East      30      55\n",
      "10  North      42  26’17”  East      26      17\n",
      "11  North      75  44’52”  East      44      52\n",
      "12  North      45  44’01”  East      44      01\n"
     ]
    }
   ],
   "source": [
    "#reference = https://practicaldatascience.co.uk/data-science/how-to-split-strings-using-the-pandas-split-function\n",
    "\n",
    "df = pd.DataFrame()\n",
    "dftest = pd.DataFrame()\n",
    "df['Bearing'] = Bearing[0::2]\n",
    "\n",
    "dftest[['NS','Degrees','MS','EW']] = df['Bearing'].str.split(pat = r'\\s|\\°',expand = True)\n",
    "\n",
    "dftest['Minutes'] = dftest['MS'].str[:2]\n",
    "dftest['Seconds'] = dftest['MS'].str[3:5]\n",
    "print(df)\n",
    "print(dftest)"
   ]
  },
  {
   "cell_type": "code",
   "execution_count": 155,
   "metadata": {},
   "outputs": [
    {
     "name": "stdout",
     "output_type": "stream",
     "text": [
      "      NS Degrees    EW Minutes Seconds\n",
      "0  South      19  East      26      24\n",
      "1  South      45  West      44      01\n",
      "2  South      75  West      44      52\n",
      "3  South      42  West      26      17\n",
      "4  South      87  West      30      55\n"
     ]
    }
   ],
   "source": [
    "#Drop the 'MS' column - it's no longer useful\n",
    "dftestclean = dftest.drop(['MS'], axis = 1)\n",
    "# Converting to excel\n",
    "\n",
    "csv = dftestclean.to_csv(r'C:\\Users\\hdean\\Documents\\ArcGIS\\Projects\\PythonWorkSpace_ROW\\bearings1.csv',index = False)\n",
    "\n",
    "print(dftestclean.head())"
   ]
  },
  {
   "cell_type": "code",
   "execution_count": null,
   "metadata": {},
   "outputs": [],
   "source": []
  }
 ],
 "metadata": {
  "kernelspec": {
   "display_name": "ArcGISPro",
   "language": "Python",
   "name": "python3"
  },
  "language_info": {
   "file_extension": ".py",
   "name": "python",
   "version": "3"
  }
 },
 "nbformat": 4,
 "nbformat_minor": 2
}
